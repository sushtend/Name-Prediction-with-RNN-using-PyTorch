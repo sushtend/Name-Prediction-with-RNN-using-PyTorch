{
 "cells": [
  {
   "cell_type": "markdown",
   "metadata": {},
   "source": [
    "## Read the files and store content in a dictionary"
   ]
  },
  {
   "cell_type": "code",
   "execution_count": 1,
   "metadata": {
    "ExecuteTime": {
     "end_time": "2020-10-14T03:57:11.955541Z",
     "start_time": "2020-10-14T03:57:11.952463Z"
    }
   },
   "outputs": [],
   "source": [
    "import os, glob\n",
    "from io import open"
   ]
  },
  {
   "cell_type": "code",
   "execution_count": 2,
   "metadata": {
    "ExecuteTime": {
     "end_time": "2020-10-14T03:57:13.007508Z",
     "start_time": "2020-10-14T03:57:13.002964Z"
    }
   },
   "outputs": [],
   "source": [
    "## Store the file locations in a list calles files\n",
    "\n",
    "files = glob.glob('./dataset/surnames/names/*.txt')"
   ]
  },
  {
   "cell_type": "code",
   "execution_count": 3,
   "metadata": {
    "ExecuteTime": {
     "end_time": "2020-10-14T03:57:13.795226Z",
     "start_time": "2020-10-14T03:57:13.782822Z"
    }
   },
   "outputs": [],
   "source": [
    "country_names = {}\n",
    "\n",
    "for file in files:\n",
    "    country = os.path.basename(file).split(\".\")[0]\n",
    "    names = open(file,'r',encoding='UTF-8').read().split('\\n')\n",
    "    \n",
    "    country_names[country] = names"
   ]
  },
  {
   "cell_type": "code",
   "execution_count": 4,
   "metadata": {
    "ExecuteTime": {
     "end_time": "2020-10-14T03:57:15.255496Z",
     "start_time": "2020-10-14T03:57:15.252652Z"
    }
   },
   "outputs": [],
   "source": [
    "#country_names"
   ]
  },
  {
   "cell_type": "markdown",
   "metadata": {},
   "source": [
    "### Check for Unicode characters and convert to ASCII"
   ]
  },
  {
   "cell_type": "code",
   "execution_count": 5,
   "metadata": {
    "ExecuteTime": {
     "end_time": "2020-10-14T03:57:16.440470Z",
     "start_time": "2020-10-14T03:57:16.437672Z"
    }
   },
   "outputs": [],
   "source": [
    "import unicodedata,string"
   ]
  },
  {
   "cell_type": "code",
   "execution_count": 6,
   "metadata": {
    "ExecuteTime": {
     "end_time": "2020-10-14T03:57:16.995074Z",
     "start_time": "2020-10-14T03:57:16.992014Z"
    }
   },
   "outputs": [],
   "source": [
    "ascii_letters = string.ascii_letters+\" .,;''\""
   ]
  },
  {
   "cell_type": "code",
   "execution_count": 7,
   "metadata": {
    "ExecuteTime": {
     "end_time": "2020-10-14T03:57:17.565841Z",
     "start_time": "2020-10-14T03:57:17.562152Z"
    }
   },
   "outputs": [],
   "source": [
    "## Unicode Character categories : https://www.fileformat.info/info/unicode/category/index.htm\n",
    "## Mn = Mark, Nonspacing\n",
    "\n",
    "def convert_to_ascii(word):\n",
    "    return \"\".join(letter for letter in unicodedata.normalize(\"NFD\",word) if letter in ascii_letters and unicodedata.category(letter)!=\"Mn\")"
   ]
  },
  {
   "cell_type": "code",
   "execution_count": 8,
   "metadata": {
    "ExecuteTime": {
     "end_time": "2020-10-14T03:57:20.411055Z",
     "start_time": "2020-10-14T03:57:20.352850Z"
    }
   },
   "outputs": [],
   "source": [
    "for country,names in country_names.items():\n",
    "    country_names[country] = [convert_to_ascii(name) for name in names]"
   ]
  },
  {
   "cell_type": "markdown",
   "metadata": {},
   "source": [
    "## Helper function to get samples from dictionary"
   ]
  },
  {
   "cell_type": "code",
   "execution_count": 9,
   "metadata": {
    "ExecuteTime": {
     "end_time": "2020-10-14T03:57:23.056225Z",
     "start_time": "2020-10-14T03:57:23.053287Z"
    }
   },
   "outputs": [],
   "source": [
    "import random"
   ]
  },
  {
   "cell_type": "code",
   "execution_count": 10,
   "metadata": {
    "ExecuteTime": {
     "end_time": "2020-10-14T03:57:23.657111Z",
     "start_time": "2020-10-14T03:57:23.653141Z"
    }
   },
   "outputs": [],
   "source": [
    "def get_sample_name():\n",
    "    country = random.choice(list(country_names.keys()))\n",
    "    countries = country_names[country]\n",
    "    name = countries[random.randint(0,len(countries)-2)] #-2 because lat value in the list is empty\n",
    "    \n",
    "    ## name = random.choice(country_names[country])\n",
    "    ## The above function, sometimes returns blank values\n",
    "    \n",
    "    return country,name\n",
    "    \n",
    "    "
   ]
  },
  {
   "cell_type": "code",
   "execution_count": 11,
   "metadata": {
    "ExecuteTime": {
     "end_time": "2020-10-14T03:57:26.302974Z",
     "start_time": "2020-10-14T03:57:26.292616Z"
    }
   },
   "outputs": [
    {
     "data": {
      "text/plain": [
       "('Vietnamese', 'Hoang')"
      ]
     },
     "execution_count": 11,
     "metadata": {},
     "output_type": "execute_result"
    }
   ],
   "source": [
    "get_sample_name()"
   ]
  },
  {
   "cell_type": "markdown",
   "metadata": {},
   "source": [
    "## Helper function to convert string to tensors"
   ]
  },
  {
   "cell_type": "code",
   "execution_count": 12,
   "metadata": {
    "ExecuteTime": {
     "end_time": "2020-10-14T03:57:28.572094Z",
     "start_time": "2020-10-14T03:57:27.537399Z"
    }
   },
   "outputs": [],
   "source": [
    "import torch"
   ]
  },
  {
   "cell_type": "code",
   "execution_count": 13,
   "metadata": {
    "ExecuteTime": {
     "end_time": "2020-10-14T03:57:28.577349Z",
     "start_time": "2020-10-14T03:57:28.574537Z"
    }
   },
   "outputs": [],
   "source": [
    "def get_letter_tensor(letter):    \n",
    "    tnsr = torch.zeros((1,len(ascii_letters)))\n",
    "    tnsr[:,ascii_letters.index(letter)]=1\n",
    "    return tnsr\n",
    "    "
   ]
  },
  {
   "cell_type": "code",
   "execution_count": 14,
   "metadata": {
    "ExecuteTime": {
     "end_time": "2020-10-14T03:57:31.081822Z",
     "start_time": "2020-10-14T03:57:31.077776Z"
    }
   },
   "outputs": [],
   "source": [
    "def get_word_tensor(word):\n",
    "\n",
    "    word_tnsr = torch.zeros(len(word),1,len(ascii_letters))\n",
    "\n",
    "    for i,letter in enumerate(word):\n",
    "        word_tnsr[i,:,:]=get_letter_tensor(letter)\n",
    "        \n",
    "    return word_tnsr"
   ]
  },
  {
   "cell_type": "code",
   "execution_count": 15,
   "metadata": {
    "ExecuteTime": {
     "end_time": "2020-10-14T03:57:31.994549Z",
     "start_time": "2020-10-14T03:57:31.991245Z"
    }
   },
   "outputs": [],
   "source": [
    "all_categories=list(country_names.keys())\n",
    "def get_cat_tensor(category):\n",
    "    return torch.tensor([all_categories.index(category)],dtype=torch.long)"
   ]
  },
  {
   "cell_type": "markdown",
   "metadata": {},
   "source": [
    "##  A  neural network - RNN "
   ]
  },
  {
   "cell_type": "code",
   "execution_count": 16,
   "metadata": {
    "ExecuteTime": {
     "end_time": "2020-10-14T03:57:34.590577Z",
     "start_time": "2020-10-14T03:57:34.587050Z"
    }
   },
   "outputs": [],
   "source": [
    "import torch.nn as nn"
   ]
  },
  {
   "cell_type": "code",
   "execution_count": 17,
   "metadata": {
    "ExecuteTime": {
     "end_time": "2020-10-14T03:57:35.269336Z",
     "start_time": "2020-10-14T03:57:35.262750Z"
    }
   },
   "outputs": [],
   "source": [
    "class RNN(nn.Module):\n",
    "    \n",
    "    def __init__(self,input_size, hidden_size,output_size):\n",
    "        \n",
    "        super(RNN,self).__init__()\n",
    "        \n",
    "        self.hidden_size=hidden_size\n",
    "        self.output_calc = nn.Linear(input_size+hidden_size,output_size)\n",
    "        self.hidden_calc = nn.Linear(input_size+hidden_size,hidden_size)\n",
    "        \n",
    "        self.softmax = nn.LogSoftmax(dim=1)\n",
    "        \n",
    "    def forward(self,input,hidden):\n",
    "        combo = torch.cat((input,hidden),axis=1)\n",
    "        \n",
    "        hidden_layer = self.hidden_calc(combo)\n",
    "        output_layer = self.output_calc(combo)\n",
    "        \n",
    "        output_layer = self.softmax(output_layer)\n",
    "        \n",
    "        return output_layer,hidden_layer\n",
    "    \n",
    "    def initHidden(self):\n",
    "        return torch.zeros(1,self.hidden_size)\n",
    "        "
   ]
  },
  {
   "cell_type": "code",
   "execution_count": 18,
   "metadata": {
    "ExecuteTime": {
     "end_time": "2020-10-14T03:57:37.907609Z",
     "start_time": "2020-10-14T03:57:37.903134Z"
    }
   },
   "outputs": [],
   "source": [
    "hidden_size = 128\n",
    "rnn = RNN(len(ascii_letters),hidden_size,len(country_names.keys()))"
   ]
  },
  {
   "cell_type": "code",
   "execution_count": 19,
   "metadata": {
    "ExecuteTime": {
     "end_time": "2020-10-14T03:57:39.214542Z",
     "start_time": "2020-10-14T03:57:39.209968Z"
    }
   },
   "outputs": [
    {
     "data": {
      "text/plain": [
       "<bound method Module.parameters of RNN(\n",
       "  (output_calc): Linear(in_features=186, out_features=18, bias=True)\n",
       "  (hidden_calc): Linear(in_features=186, out_features=128, bias=True)\n",
       "  (softmax): LogSoftmax()\n",
       ")>"
      ]
     },
     "execution_count": 19,
     "metadata": {},
     "output_type": "execute_result"
    }
   ],
   "source": [
    "rnn.parameters"
   ]
  },
  {
   "cell_type": "markdown",
   "metadata": {},
   "source": [
    "## Function to train single example"
   ]
  },
  {
   "cell_type": "code",
   "execution_count": 20,
   "metadata": {
    "ExecuteTime": {
     "end_time": "2020-10-14T03:57:40.637634Z",
     "start_time": "2020-10-14T03:57:40.634554Z"
    }
   },
   "outputs": [],
   "source": [
    "criterion = nn.NLLLoss()\n"
   ]
  },
  {
   "cell_type": "code",
   "execution_count": 21,
   "metadata": {
    "ExecuteTime": {
     "end_time": "2020-10-14T03:57:43.913570Z",
     "start_time": "2020-10-14T03:57:43.908361Z"
    }
   },
   "outputs": [],
   "source": [
    "learning_rate = 0.005 # If you set this too high, it might explode. If too low, it might not learn\n",
    "\n",
    "def train(country_tnsr, word_tnsr):\n",
    "    hidden = rnn.initHidden()\n",
    "\n",
    "\n",
    "    rnn.zero_grad()\n",
    "\n",
    "    for i in range(word_tnsr.size()[0]):\n",
    "        output, hidden = rnn(word_tnsr[i], hidden)\n",
    "        \n",
    "\n",
    "    loss = criterion(output, country_tnsr)\n",
    "    loss.backward()\n",
    "\n",
    "    # Update parameters\n",
    "    for p in rnn.parameters():\n",
    "        p.data.add_(p.grad.data, alpha=-learning_rate)\n",
    "\n",
    "    return output, loss.item()"
   ]
  },
  {
   "cell_type": "markdown",
   "metadata": {},
   "source": [
    "## Train the network on 1000s of examples"
   ]
  },
  {
   "cell_type": "code",
   "execution_count": 22,
   "metadata": {
    "ExecuteTime": {
     "end_time": "2020-10-14T03:57:47.663887Z",
     "start_time": "2020-10-14T03:57:47.660800Z"
    }
   },
   "outputs": [],
   "source": [
    "import time\n",
    "import math"
   ]
  },
  {
   "cell_type": "code",
   "execution_count": 23,
   "metadata": {
    "ExecuteTime": {
     "end_time": "2020-10-14T03:57:48.399973Z",
     "start_time": "2020-10-14T03:57:48.396159Z"
    }
   },
   "outputs": [],
   "source": [
    "def categoryFromOutput(output):\n",
    "    top_n, top_i = output.topk(1)\n",
    "    category_i = top_i[0].item()\n",
    "    return all_categories[category_i], category_i"
   ]
  },
  {
   "cell_type": "code",
   "execution_count": 24,
   "metadata": {
    "ExecuteTime": {
     "end_time": "2020-10-14T03:57:55.257020Z",
     "start_time": "2020-10-14T03:57:55.254455Z"
    }
   },
   "outputs": [],
   "source": [
    "n_iters = 100_000\n",
    "print_every = 5000\n",
    "plot_every = 1000\n"
   ]
  },
  {
   "cell_type": "code",
   "execution_count": 26,
   "metadata": {
    "ExecuteTime": {
     "end_time": "2020-10-14T04:01:06.131201Z",
     "start_time": "2020-10-14T03:58:42.691093Z"
    }
   },
   "outputs": [
    {
     "name": "stdout",
     "output_type": "stream",
     "text": [
      "5000 5% 1.7969 Said / Arabic ✓\n",
      "10000 10% 1.4433 Lee / Chinese ✗ (Korean)\n",
      "15000 15% 3.3025 Broz / Spanish ✗ (Polish)\n",
      "20000 20% 1.9183 Chin / Korean ✗ (Chinese)\n",
      "25000 25% 2.3326 Gale / Irish ✗ (English)\n",
      "30000 30% 0.2939 Nishiwaki / Japanese ✓\n",
      "35000 35% 2.2776 Winograd / Portuguese ✗ (Polish)\n",
      "40000 40% 2.2625 Collins / Greek ✗ (Irish)\n",
      "45000 45% 0.3873 Davidson / Scottish ✓\n",
      "50000 50% 0.4697 Mcdonald / Scottish ✓\n",
      "55000 55% 3.0164 Michel / Irish ✗ (Spanish)\n",
      "60000 60% 0.9304 Hofer / German ✓\n",
      "65000 65% 0.0534 Ieyasu / Japanese ✓\n",
      "70000 70% 1.3523 Sala / Spanish ✓\n",
      "75000 75% 2.3222 Mcneil / Scottish ✗ (Irish)\n",
      "80000 80% 3.1563 Rompa / Czech ✗ (Dutch)\n",
      "85000 85% 0.5082 Close / Greek ✓\n",
      "90000 90% 0.2172 Okura / Japanese ✓\n",
      "95000 95% 1.7877 Ferrer / German ✗ (Spanish)\n",
      "100000 100% 0.0545 Aswad / Arabic ✓\n"
     ]
    }
   ],
   "source": [
    "\n",
    "current_loss = 0\n",
    "all_losses = []\n",
    "\n",
    "\n",
    "for iter in range(1, n_iters + 1):\n",
    "    ## Get random pair of name & country and convert them into tensors.\n",
    "    country,name = get_sample_name()\n",
    "    country_tnsr,name_tnsr= (get_cat_tensor(country),get_word_tensor(name))\n",
    "    \n",
    "    output, loss = train(country_tnsr, name_tnsr)\n",
    "    current_loss += loss\n",
    "\n",
    "    # Print iter number, loss, name and guess\n",
    "    if iter % print_every == 0:\n",
    "        guess, guess_i = categoryFromOutput(output)\n",
    "        correct = '✓' if guess == country else '✗ (%s)' % country\n",
    "        print('%d %d%% %.4f %s / %s %s' % (iter, iter / n_iters * 100, loss, name, guess, correct))\n",
    "\n",
    "    if iter % plot_every == 0:\n",
    "        all_losses.append(current_loss / plot_every)\n",
    "        current_loss = 0"
   ]
  },
  {
   "cell_type": "markdown",
   "metadata": {
    "ExecuteTime": {
     "end_time": "2020-10-11T03:53:41.121557Z",
     "start_time": "2020-10-11T03:53:41.115760Z"
    }
   },
   "source": [
    "## Evaluating the Results"
   ]
  },
  {
   "cell_type": "code",
   "execution_count": 27,
   "metadata": {
    "ExecuteTime": {
     "end_time": "2020-10-14T04:01:15.908792Z",
     "start_time": "2020-10-14T04:01:15.904301Z"
    }
   },
   "outputs": [
    {
     "data": {
      "text/plain": [
       "[2.4127648069262504,\n",
       " 2.3720688259005547,\n",
       " 2.3565304247140886,\n",
       " 2.2769060034155846,\n",
       " 2.242711704492569,\n",
       " 2.169371742576361,\n",
       " 2.0899487034007906,\n",
       " 2.0738369342908265,\n",
       " 2.04033457197994,\n",
       " 2.0244275058209897]"
      ]
     },
     "execution_count": 27,
     "metadata": {},
     "output_type": "execute_result"
    }
   ],
   "source": [
    "all_losses[:10]"
   ]
  },
  {
   "cell_type": "code",
   "execution_count": 28,
   "metadata": {
    "ExecuteTime": {
     "end_time": "2020-10-14T04:01:19.037035Z",
     "start_time": "2020-10-14T04:01:18.574502Z"
    }
   },
   "outputs": [
    {
     "data": {
      "text/plain": [
       "[<matplotlib.lines.Line2D at 0x7f948c5a7320>]"
      ]
     },
     "execution_count": 28,
     "metadata": {},
     "output_type": "execute_result"
    },
    {
     "data": {
      "image/png": "[encoded data removed]",
      "text/plain": [
       "<Figure size 432x288 with 1 Axes>"
      ]
     },
     "metadata": {
      "needs_background": "light"
     },
     "output_type": "display_data"
    }
   ],
   "source": [
    "import matplotlib.pyplot as plt\n",
    "import matplotlib.ticker as ticker\n",
    "\n",
    "plt.figure()\n",
    "plt.plot(all_losses)"
   ]
  },
  {
   "cell_type": "code",
   "execution_count": 29,
   "metadata": {
    "ExecuteTime": {
     "end_time": "2020-10-14T04:01:23.933584Z",
     "start_time": "2020-10-14T04:01:23.929566Z"
    }
   },
   "outputs": [],
   "source": [
    "## Output for a given word\n",
    "\n",
    "def evaluate(line_tensor):\n",
    "    hidden = rnn.initHidden()\n",
    "\n",
    "    for i in range(line_tensor.size()[0]):\n",
    "        output, hidden = rnn(line_tensor[i], hidden)\n",
    "\n",
    "    return output"
   ]
  },
  {
   "cell_type": "markdown",
   "metadata": {},
   "source": [
    "### Testing new values"
   ]
  },
  {
   "cell_type": "code",
   "execution_count": 30,
   "metadata": {
    "ExecuteTime": {
     "end_time": "2020-10-14T04:01:25.182353Z",
     "start_time": "2020-10-14T04:01:25.174451Z"
    }
   },
   "outputs": [
    {
     "data": {
      "text/plain": [
       "('Russian', 6)"
      ]
     },
     "execution_count": 30,
     "metadata": {},
     "output_type": "execute_result"
    }
   ],
   "source": [
    "categoryFromOutput(evaluate(get_word_tensor('Dovesky')))"
   ]
  },
  {
   "cell_type": "code",
   "execution_count": 31,
   "metadata": {
    "ExecuteTime": {
     "end_time": "2020-10-14T04:01:26.184407Z",
     "start_time": "2020-10-14T04:01:26.177617Z"
    }
   },
   "outputs": [
    {
     "data": {
      "text/plain": [
       "('Scottish', 14)"
      ]
     },
     "execution_count": 31,
     "metadata": {},
     "output_type": "execute_result"
    }
   ],
   "source": [
    "categoryFromOutput(evaluate(get_word_tensor('Jackson')))"
   ]
  },
  {
   "cell_type": "code",
   "execution_count": null,
   "metadata": {},
   "outputs": [],
   "source": []
  }
 ],
 "metadata": {
  "kernelspec": {
   "display_name": "Python 3",
   "language": "python",
   "name": "python3"
  },
  "language_info": {
   "codemirror_mode": {
    "name": "ipython",
    "version": 3
   },
   "file_extension": ".py",
   "mimetype": "text/x-python",
   "name": "python",
   "nbconvert_exporter": "python",
   "pygments_lexer": "ipython3",
   "version": "3.7.3"
  },
  "toc": {
   "base_numbering": 1,
   "nav_menu": {},
   "number_sections": true,
   "sideBar": true,
   "skip_h1_title": false,
   "title_cell": "Table of Contents",
   "title_sidebar": "Contents",
   "toc_cell": false,
   "toc_position": {},
   "toc_section_display": true,
   "toc_window_display": true
  }
 },
 "nbformat": 4,
 "nbformat_minor": 4
}
